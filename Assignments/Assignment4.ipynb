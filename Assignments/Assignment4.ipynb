{
 "cells": [
  {
   "metadata": {},
   "cell_type": "markdown",
   "source": "# Assignment 4",
   "id": "d3d68e00256c4277"
  },
  {
   "metadata": {},
   "cell_type": "markdown",
   "source": "Store the embeddings into a dictionary, where the key is the word and the value is the vector.",
   "id": "4b03dfe0f71a01a"
  },
  {
   "metadata": {
    "ExecuteTime": {
     "end_time": "2025-04-12T10:50:32.274211Z",
     "start_time": "2025-04-12T10:50:21.964325Z"
    }
   },
   "cell_type": "code",
   "source": [
    "import numpy as np\n",
    "\n",
    "glove_path = \"../Datasets/glove.6B.100d.txt\"\n",
    "word_index = {}\n",
    "\n",
    "with open(glove_path, \"r\", encoding=\"utf-8\") as f:\n",
    "    for line in f:\n",
    "        values = line.split()\n",
    "        word = values[0]\n",
    "        coefs = np.asarray(values[1:], dtype='float32')\n",
    "        word_index[word] = coefs\n",
    "print(f\"Embeddings: {len(word_index)}\")\n",
    "index_word = {tuple(v): k for k, v in word_index.items()}"
   ],
   "id": "6372883efe277809",
   "outputs": [
    {
     "name": "stdout",
     "output_type": "stream",
     "text": [
      "Embeddings: 400000\n"
     ]
    }
   ],
   "execution_count": 54
  },
  {
   "metadata": {},
   "cell_type": "markdown",
   "source": "Vectors for the words: \"woman\", \"man\" and \"king\". Define a new vector for the expression vec(\"woman\") - vec(\"man) + vec(\"king\").",
   "id": "599480b153b2d41b"
  },
  {
   "metadata": {
    "ExecuteTime": {
     "end_time": "2025-04-12T10:50:32.282999Z",
     "start_time": "2025-04-12T10:50:32.279264Z"
    }
   },
   "cell_type": "code",
   "source": [
    "woman_vector = word_index[\"woman\"]\n",
    "man_vector = word_index[\"man\"]\n",
    "king_vector = word_index[\"king\"]\n",
    "\n",
    "new_vector = woman_vector - man_vector + king_vector\n",
    "print(f\"New vector: {new_vector}\")"
   ],
   "id": "adcbe5a289707098",
   "outputs": [
    {
     "name": "stdout",
     "output_type": "stream",
     "text": [
      "New vector: [-0.10231996 -0.81294     0.10211001  0.985924    0.34218282  1.09095\n",
      " -0.48913    -0.05616698 -0.21029997 -1.02996    -0.86851     0.36786997\n",
      "  0.01960999  0.59259    -0.231901   -1.016919   -0.012184   -1.17194\n",
      " -0.52329     0.60645    -0.98537004 -1.001028    0.48913902  0.630072\n",
      "  0.58224     0.15908998  0.43684998 -1.25351     0.97054005 -0.06552899\n",
      "  0.733763    0.44219002  1.2091839   0.19698    -0.15948     0.34364\n",
      " -0.46222997  0.33772     0.14792703 -0.24959499 -0.77093005  0.522717\n",
      " -0.12830001 -0.91881    -0.01755    -0.44041002 -0.52656496  0.33734798\n",
      "  0.60639    -0.45067    -0.04158002  0.08408298  1.31456     0.67737997\n",
      " -0.24316001 -2.071      -0.60648996  0.19710997  0.63567     0.07819999\n",
      "  0.49161002  0.08172001  0.708557    0.201938    0.5155501  -0.23025298\n",
      " -0.40473     0.39212003 -0.5093     -0.139153    0.21609999 -0.628671\n",
      "  0.08894001  0.49167    -0.06637001  0.76095    -0.19442001  0.41131\n",
      " -1.04476    -0.14801991 -0.098355   -0.25115     0.808957    0.363129\n",
      " -0.78200996 -0.10483998  0.08340102 -1.24067     0.655344   -0.93635\n",
      "  0.648379   -0.55827     0.45621303  0.27575803 -1.54896    -0.19909596\n",
      " -0.50804996 -0.13818002  0.27731198 -0.75721   ]\n"
     ]
    }
   ],
   "execution_count": 55
  },
  {
   "metadata": {},
   "cell_type": "markdown",
   "source": "Store the vectors to an array.",
   "id": "c998f41048c159c4"
  },
  {
   "metadata": {
    "ExecuteTime": {
     "end_time": "2025-04-12T10:50:33.088702Z",
     "start_time": "2025-04-12T10:50:32.966392Z"
    }
   },
   "cell_type": "code",
   "source": "embedding_weights = np.array(list(word_index.values()))",
   "id": "7630361672968e74",
   "outputs": [],
   "execution_count": 56
  },
  {
   "metadata": {},
   "cell_type": "markdown",
   "source": "Function that takes a vector as an input and returns 10 words nearest to that vector.",
   "id": "562004fb980414da"
  },
  {
   "metadata": {
    "ExecuteTime": {
     "end_time": "2025-04-12T10:50:33.694542Z",
     "start_time": "2025-04-12T10:50:33.691584Z"
    }
   },
   "cell_type": "code",
   "source": [
    "import numpy as np\n",
    "from sklearn.metrics.pairwise import cosine_similarity\n",
    "\n",
    "def find_nearest_vectors(target_vector, top_n=10):\n",
    "\n",
    "    similarities = cosine_similarity(embedding_weights, target_vector.reshape(1, -1)).reshape(-1)\n",
    "    similar_indices = np.argsort(similarities)[-top_n-1:-1][::-1]\n",
    "\n",
    "    similar_words = []\n",
    "    for idx in similar_indices:\n",
    "        similar_vector = embedding_weights[idx]\n",
    "        similar_word = index_word[tuple(similar_vector)]\n",
    "        similar_words.append(similar_word)\n",
    "\n",
    "    return similar_words"
   ],
   "id": "2e2f77327adc199e",
   "outputs": [],
   "execution_count": 57
  },
  {
   "metadata": {},
   "cell_type": "markdown",
   "source": "Find the nearest vectors for the (woman - man + king) vector.",
   "id": "1f5839f6054509d4"
  },
  {
   "metadata": {
    "ExecuteTime": {
     "end_time": "2025-04-12T10:50:55.183790Z",
     "start_time": "2025-04-12T10:50:55.034733Z"
    }
   },
   "cell_type": "code",
   "source": [
    "nearest_vectors = find_nearest_vectors(new_vector)\n",
    "for i in range(10):\n",
    "    print(f\"{i + 1}. {nearest_vectors[i]}\")"
   ],
   "id": "eee066ed418f1fb6",
   "outputs": [
    {
     "name": "stdout",
     "output_type": "stream",
     "text": [
      "1. queen\n",
      "2. monarch\n",
      "3. throne\n",
      "4. daughter\n",
      "5. prince\n",
      "6. princess\n",
      "7. mother\n",
      "8. elizabeth\n",
      "9. father\n",
      "10. wife\n"
     ]
    }
   ],
   "execution_count": 61
  },
  {
   "metadata": {},
   "cell_type": "code",
   "outputs": [],
   "execution_count": null,
   "source": "",
   "id": "296f44207dfc86c4"
  }
 ],
 "metadata": {
  "kernelspec": {
   "display_name": "Python 3",
   "language": "python",
   "name": "python3"
  },
  "language_info": {
   "codemirror_mode": {
    "name": "ipython",
    "version": 2
   },
   "file_extension": ".py",
   "mimetype": "text/x-python",
   "name": "python",
   "nbconvert_exporter": "python",
   "pygments_lexer": "ipython2",
   "version": "2.7.6"
  }
 },
 "nbformat": 4,
 "nbformat_minor": 5
}
