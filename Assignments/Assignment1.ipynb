{
 "cells": [
  {
   "metadata": {},
   "cell_type": "markdown",
   "source": "Import the necessary libraries.",
   "id": "2fe76d5ad5353254"
  },
  {
   "cell_type": "code",
   "id": "initial_id",
   "metadata": {
    "collapsed": true,
    "ExecuteTime": {
     "end_time": "2025-03-24T09:28:23.924118Z",
     "start_time": "2025-03-24T09:28:23.921357Z"
    }
   },
   "source": [
    "from keras.src.models import Sequential\n",
    "from keras.src.layers import Dense, Input\n",
    "import numpy as np\n",
    "import pandas as pd\n",
    "import matplotlib.pyplot as plt"
   ],
   "outputs": [],
   "execution_count": 105
  },
  {
   "metadata": {},
   "cell_type": "markdown",
   "source": "Load the iris dataset and convert the species column to one-hot encoding.",
   "id": "c76540627a139baa"
  },
  {
   "metadata": {
    "ExecuteTime": {
     "end_time": "2025-03-24T09:28:23.986904Z",
     "start_time": "2025-03-24T09:28:23.978397Z"
    }
   },
   "cell_type": "code",
   "source": [
    "iris = pd.read_csv('../Datasets/iris.csv')\n",
    "iris.head()"
   ],
   "id": "a8ae780b9d593b3c",
   "outputs": [
    {
     "data": {
      "text/plain": [
       "   sepal_length  sepal_width  petal_length  petal_width species\n",
       "0           5.1          3.5           1.4          0.2  setosa\n",
       "1           4.9          3.0           1.4          0.2  setosa\n",
       "2           4.7          3.2           1.3          0.2  setosa\n",
       "3           4.6          3.1           1.5          0.2  setosa\n",
       "4           5.0          3.6           1.4          0.2  setosa"
      ],
      "text/html": [
       "<div>\n",
       "<style scoped>\n",
       "    .dataframe tbody tr th:only-of-type {\n",
       "        vertical-align: middle;\n",
       "    }\n",
       "\n",
       "    .dataframe tbody tr th {\n",
       "        vertical-align: top;\n",
       "    }\n",
       "\n",
       "    .dataframe thead th {\n",
       "        text-align: right;\n",
       "    }\n",
       "</style>\n",
       "<table border=\"1\" class=\"dataframe\">\n",
       "  <thead>\n",
       "    <tr style=\"text-align: right;\">\n",
       "      <th></th>\n",
       "      <th>sepal_length</th>\n",
       "      <th>sepal_width</th>\n",
       "      <th>petal_length</th>\n",
       "      <th>petal_width</th>\n",
       "      <th>species</th>\n",
       "    </tr>\n",
       "  </thead>\n",
       "  <tbody>\n",
       "    <tr>\n",
       "      <th>0</th>\n",
       "      <td>5.1</td>\n",
       "      <td>3.5</td>\n",
       "      <td>1.4</td>\n",
       "      <td>0.2</td>\n",
       "      <td>setosa</td>\n",
       "    </tr>\n",
       "    <tr>\n",
       "      <th>1</th>\n",
       "      <td>4.9</td>\n",
       "      <td>3.0</td>\n",
       "      <td>1.4</td>\n",
       "      <td>0.2</td>\n",
       "      <td>setosa</td>\n",
       "    </tr>\n",
       "    <tr>\n",
       "      <th>2</th>\n",
       "      <td>4.7</td>\n",
       "      <td>3.2</td>\n",
       "      <td>1.3</td>\n",
       "      <td>0.2</td>\n",
       "      <td>setosa</td>\n",
       "    </tr>\n",
       "    <tr>\n",
       "      <th>3</th>\n",
       "      <td>4.6</td>\n",
       "      <td>3.1</td>\n",
       "      <td>1.5</td>\n",
       "      <td>0.2</td>\n",
       "      <td>setosa</td>\n",
       "    </tr>\n",
       "    <tr>\n",
       "      <th>4</th>\n",
       "      <td>5.0</td>\n",
       "      <td>3.6</td>\n",
       "      <td>1.4</td>\n",
       "      <td>0.2</td>\n",
       "      <td>setosa</td>\n",
       "    </tr>\n",
       "  </tbody>\n",
       "</table>\n",
       "</div>"
      ]
     },
     "execution_count": 106,
     "metadata": {},
     "output_type": "execute_result"
    }
   ],
   "execution_count": 106
  },
  {
   "metadata": {
    "ExecuteTime": {
     "end_time": "2025-03-24T09:28:24.062136Z",
     "start_time": "2025-03-24T09:28:24.054982Z"
    }
   },
   "cell_type": "code",
   "source": [
    "iris = pd.get_dummies(iris, columns=['species'], dtype=int)\n",
    "iris.head()"
   ],
   "id": "fc93914f82d5f57a",
   "outputs": [
    {
     "data": {
      "text/plain": [
       "   sepal_length  sepal_width  petal_length  petal_width  species_setosa  \\\n",
       "0           5.1          3.5           1.4          0.2               1   \n",
       "1           4.9          3.0           1.4          0.2               1   \n",
       "2           4.7          3.2           1.3          0.2               1   \n",
       "3           4.6          3.1           1.5          0.2               1   \n",
       "4           5.0          3.6           1.4          0.2               1   \n",
       "\n",
       "   species_versicolor  species_virginica  \n",
       "0                   0                  0  \n",
       "1                   0                  0  \n",
       "2                   0                  0  \n",
       "3                   0                  0  \n",
       "4                   0                  0  "
      ],
      "text/html": [
       "<div>\n",
       "<style scoped>\n",
       "    .dataframe tbody tr th:only-of-type {\n",
       "        vertical-align: middle;\n",
       "    }\n",
       "\n",
       "    .dataframe tbody tr th {\n",
       "        vertical-align: top;\n",
       "    }\n",
       "\n",
       "    .dataframe thead th {\n",
       "        text-align: right;\n",
       "    }\n",
       "</style>\n",
       "<table border=\"1\" class=\"dataframe\">\n",
       "  <thead>\n",
       "    <tr style=\"text-align: right;\">\n",
       "      <th></th>\n",
       "      <th>sepal_length</th>\n",
       "      <th>sepal_width</th>\n",
       "      <th>petal_length</th>\n",
       "      <th>petal_width</th>\n",
       "      <th>species_setosa</th>\n",
       "      <th>species_versicolor</th>\n",
       "      <th>species_virginica</th>\n",
       "    </tr>\n",
       "  </thead>\n",
       "  <tbody>\n",
       "    <tr>\n",
       "      <th>0</th>\n",
       "      <td>5.1</td>\n",
       "      <td>3.5</td>\n",
       "      <td>1.4</td>\n",
       "      <td>0.2</td>\n",
       "      <td>1</td>\n",
       "      <td>0</td>\n",
       "      <td>0</td>\n",
       "    </tr>\n",
       "    <tr>\n",
       "      <th>1</th>\n",
       "      <td>4.9</td>\n",
       "      <td>3.0</td>\n",
       "      <td>1.4</td>\n",
       "      <td>0.2</td>\n",
       "      <td>1</td>\n",
       "      <td>0</td>\n",
       "      <td>0</td>\n",
       "    </tr>\n",
       "    <tr>\n",
       "      <th>2</th>\n",
       "      <td>4.7</td>\n",
       "      <td>3.2</td>\n",
       "      <td>1.3</td>\n",
       "      <td>0.2</td>\n",
       "      <td>1</td>\n",
       "      <td>0</td>\n",
       "      <td>0</td>\n",
       "    </tr>\n",
       "    <tr>\n",
       "      <th>3</th>\n",
       "      <td>4.6</td>\n",
       "      <td>3.1</td>\n",
       "      <td>1.5</td>\n",
       "      <td>0.2</td>\n",
       "      <td>1</td>\n",
       "      <td>0</td>\n",
       "      <td>0</td>\n",
       "    </tr>\n",
       "    <tr>\n",
       "      <th>4</th>\n",
       "      <td>5.0</td>\n",
       "      <td>3.6</td>\n",
       "      <td>1.4</td>\n",
       "      <td>0.2</td>\n",
       "      <td>1</td>\n",
       "      <td>0</td>\n",
       "      <td>0</td>\n",
       "    </tr>\n",
       "  </tbody>\n",
       "</table>\n",
       "</div>"
      ]
     },
     "execution_count": 107,
     "metadata": {},
     "output_type": "execute_result"
    }
   ],
   "execution_count": 107
  },
  {
   "metadata": {},
   "cell_type": "markdown",
   "source": "Convert the dataframe to numpy arrays and split the data into input and output. Shuffle the data to avoid any bias.",
   "id": "2513c354aa40d902"
  },
  {
   "metadata": {
    "ExecuteTime": {
     "end_time": "2025-03-24T09:28:24.127156Z",
     "start_time": "2025-03-24T09:28:24.123668Z"
    }
   },
   "cell_type": "code",
   "source": [
    "iris = iris.to_numpy()\n",
    "np.random.shuffle(iris)\n",
    "\n",
    "X = iris[:, :4]\n",
    "y = iris[:, 4:]\n",
    "\n",
    "print(\"Input data shape: \", X.shape)\n",
    "print(\"Output data shape: \", y.shape)"
   ],
   "id": "716f966c146aaf01",
   "outputs": [
    {
     "name": "stdout",
     "output_type": "stream",
     "text": [
      "Input data shape:  (150, 4)\n",
      "Output data shape:  (150, 3)\n"
     ]
    }
   ],
   "execution_count": 108
  },
  {
   "metadata": {},
   "cell_type": "markdown",
   "source": "Create the model which consists of 3 layers.",
   "id": "9913c20b19e3f169"
  },
  {
   "metadata": {
    "ExecuteTime": {
     "end_time": "2025-03-24T09:28:24.199084Z",
     "start_time": "2025-03-24T09:28:24.184067Z"
    }
   },
   "cell_type": "code",
   "source": [
    "model = Sequential([\n",
    "    Input(shape=(4,)),\n",
    "    Dense(10, activation='relu'),\n",
    "    Dense(3, activation='softmax')\n",
    "])"
   ],
   "id": "8602d1bb9d68cd41",
   "outputs": [],
   "execution_count": 109
  },
  {
   "metadata": {},
   "cell_type": "markdown",
   "source": "Compile the model.",
   "id": "8c1804c738e68dc0"
  },
  {
   "metadata": {
    "ExecuteTime": {
     "end_time": "2025-03-24T09:28:24.266207Z",
     "start_time": "2025-03-24T09:28:24.259941Z"
    }
   },
   "cell_type": "code",
   "source": [
    "model.compile(optimizer='adam',\n",
    "              loss='categorical_crossentropy',\n",
    "              metrics=['accuracy'])"
   ],
   "id": "78aea261c5425612",
   "outputs": [],
   "execution_count": 110
  },
  {
   "metadata": {
    "ExecuteTime": {
     "end_time": "2025-03-24T09:28:27.465557Z",
     "start_time": "2025-03-24T09:28:24.314839Z"
    }
   },
   "cell_type": "code",
   "source": "history = model.fit(X, y, epochs=50, batch_size=10, validation_split=0.2)",
   "id": "6bae98f3339b3370",
   "outputs": [
    {
     "name": "stdout",
     "output_type": "stream",
     "text": [
      "Epoch 1/50\n",
      "\u001B[1m12/12\u001B[0m \u001B[32m━━━━━━━━━━━━━━━━━━━━\u001B[0m\u001B[37m\u001B[0m \u001B[1m1s\u001B[0m 28ms/step - accuracy: 0.1135 - loss: 1.2075 - val_accuracy: 0.0667 - val_loss: 1.2391\n",
      "Epoch 2/50\n",
      "\u001B[1m12/12\u001B[0m \u001B[32m━━━━━━━━━━━━━━━━━━━━\u001B[0m\u001B[37m\u001B[0m \u001B[1m0s\u001B[0m 8ms/step - accuracy: 0.1063 - loss: 1.1936 - val_accuracy: 0.1000 - val_loss: 1.1873\n",
      "Epoch 3/50\n",
      "\u001B[1m12/12\u001B[0m \u001B[32m━━━━━━━━━━━━━━━━━━━━\u001B[0m\u001B[37m\u001B[0m \u001B[1m0s\u001B[0m 8ms/step - accuracy: 0.1384 - loss: 1.1754 - val_accuracy: 0.2667 - val_loss: 1.1491\n",
      "Epoch 4/50\n",
      "\u001B[1m12/12\u001B[0m \u001B[32m━━━━━━━━━━━━━━━━━━━━\u001B[0m\u001B[37m\u001B[0m \u001B[1m0s\u001B[0m 8ms/step - accuracy: 0.2391 - loss: 1.1375 - val_accuracy: 0.3000 - val_loss: 1.1179\n",
      "Epoch 5/50\n",
      "\u001B[1m12/12\u001B[0m \u001B[32m━━━━━━━━━━━━━━━━━━━━\u001B[0m\u001B[37m\u001B[0m \u001B[1m0s\u001B[0m 8ms/step - accuracy: 0.3449 - loss: 1.1043 - val_accuracy: 0.3333 - val_loss: 1.0919\n",
      "Epoch 6/50\n",
      "\u001B[1m12/12\u001B[0m \u001B[32m━━━━━━━━━━━━━━━━━━━━\u001B[0m\u001B[37m\u001B[0m \u001B[1m0s\u001B[0m 7ms/step - accuracy: 0.3671 - loss: 1.0830 - val_accuracy: 0.3667 - val_loss: 1.0692\n",
      "Epoch 7/50\n",
      "\u001B[1m12/12\u001B[0m \u001B[32m━━━━━━━━━━━━━━━━━━━━\u001B[0m\u001B[37m\u001B[0m \u001B[1m0s\u001B[0m 7ms/step - accuracy: 0.4092 - loss: 1.0734 - val_accuracy: 0.4333 - val_loss: 1.0482\n",
      "Epoch 8/50\n",
      "\u001B[1m12/12\u001B[0m \u001B[32m━━━━━━━━━━━━━━━━━━━━\u001B[0m\u001B[37m\u001B[0m \u001B[1m0s\u001B[0m 7ms/step - accuracy: 0.5463 - loss: 1.0455 - val_accuracy: 0.7000 - val_loss: 1.0300\n",
      "Epoch 9/50\n",
      "\u001B[1m12/12\u001B[0m \u001B[32m━━━━━━━━━━━━━━━━━━━━\u001B[0m\u001B[37m\u001B[0m \u001B[1m0s\u001B[0m 7ms/step - accuracy: 0.7367 - loss: 1.0236 - val_accuracy: 0.8000 - val_loss: 1.0132\n",
      "Epoch 10/50\n",
      "\u001B[1m12/12\u001B[0m \u001B[32m━━━━━━━━━━━━━━━━━━━━\u001B[0m\u001B[37m\u001B[0m \u001B[1m0s\u001B[0m 7ms/step - accuracy: 0.7530 - loss: 1.0129 - val_accuracy: 0.9333 - val_loss: 0.9965\n",
      "Epoch 11/50\n",
      "\u001B[1m12/12\u001B[0m \u001B[32m━━━━━━━━━━━━━━━━━━━━\u001B[0m\u001B[37m\u001B[0m \u001B[1m0s\u001B[0m 6ms/step - accuracy: 0.6900 - loss: 0.9963 - val_accuracy: 0.8667 - val_loss: 0.9802\n",
      "Epoch 12/50\n",
      "\u001B[1m12/12\u001B[0m \u001B[32m━━━━━━━━━━━━━━━━━━━━\u001B[0m\u001B[37m\u001B[0m \u001B[1m0s\u001B[0m 7ms/step - accuracy: 0.7661 - loss: 0.9718 - val_accuracy: 0.7667 - val_loss: 0.9637\n",
      "Epoch 13/50\n",
      "\u001B[1m12/12\u001B[0m \u001B[32m━━━━━━━━━━━━━━━━━━━━\u001B[0m\u001B[37m\u001B[0m \u001B[1m0s\u001B[0m 7ms/step - accuracy: 0.6758 - loss: 0.9685 - val_accuracy: 0.7000 - val_loss: 0.9456\n",
      "Epoch 14/50\n",
      "\u001B[1m12/12\u001B[0m \u001B[32m━━━━━━━━━━━━━━━━━━━━\u001B[0m\u001B[37m\u001B[0m \u001B[1m0s\u001B[0m 7ms/step - accuracy: 0.7318 - loss: 0.9346 - val_accuracy: 0.7000 - val_loss: 0.9224\n",
      "Epoch 15/50\n",
      "\u001B[1m12/12\u001B[0m \u001B[32m━━━━━━━━━━━━━━━━━━━━\u001B[0m\u001B[37m\u001B[0m \u001B[1m0s\u001B[0m 7ms/step - accuracy: 0.7207 - loss: 0.9179 - val_accuracy: 0.8667 - val_loss: 0.8875\n",
      "Epoch 16/50\n",
      "\u001B[1m12/12\u001B[0m \u001B[32m━━━━━━━━━━━━━━━━━━━━\u001B[0m\u001B[37m\u001B[0m \u001B[1m0s\u001B[0m 6ms/step - accuracy: 0.7935 - loss: 0.8843 - val_accuracy: 0.9667 - val_loss: 0.8606\n",
      "Epoch 17/50\n",
      "\u001B[1m12/12\u001B[0m \u001B[32m━━━━━━━━━━━━━━━━━━━━\u001B[0m\u001B[37m\u001B[0m \u001B[1m0s\u001B[0m 7ms/step - accuracy: 0.8562 - loss: 0.8428 - val_accuracy: 0.9333 - val_loss: 0.8367\n",
      "Epoch 18/50\n",
      "\u001B[1m12/12\u001B[0m \u001B[32m━━━━━━━━━━━━━━━━━━━━\u001B[0m\u001B[37m\u001B[0m \u001B[1m0s\u001B[0m 7ms/step - accuracy: 0.8481 - loss: 0.8309 - val_accuracy: 0.9667 - val_loss: 0.8141\n",
      "Epoch 19/50\n",
      "\u001B[1m12/12\u001B[0m \u001B[32m━━━━━━━━━━━━━━━━━━━━\u001B[0m\u001B[37m\u001B[0m \u001B[1m0s\u001B[0m 6ms/step - accuracy: 0.8317 - loss: 0.8100 - val_accuracy: 0.9333 - val_loss: 0.7911\n",
      "Epoch 20/50\n",
      "\u001B[1m12/12\u001B[0m \u001B[32m━━━━━━━━━━━━━━━━━━━━\u001B[0m\u001B[37m\u001B[0m \u001B[1m0s\u001B[0m 7ms/step - accuracy: 0.7951 - loss: 0.8127 - val_accuracy: 0.9333 - val_loss: 0.7689\n",
      "Epoch 21/50\n",
      "\u001B[1m12/12\u001B[0m \u001B[32m━━━━━━━━━━━━━━━━━━━━\u001B[0m\u001B[37m\u001B[0m \u001B[1m0s\u001B[0m 7ms/step - accuracy: 0.8006 - loss: 0.7909 - val_accuracy: 0.9667 - val_loss: 0.7477\n",
      "Epoch 22/50\n",
      "\u001B[1m12/12\u001B[0m \u001B[32m━━━━━━━━━━━━━━━━━━━━\u001B[0m\u001B[37m\u001B[0m \u001B[1m0s\u001B[0m 7ms/step - accuracy: 0.8002 - loss: 0.7739 - val_accuracy: 0.8667 - val_loss: 0.7264\n",
      "Epoch 23/50\n",
      "\u001B[1m12/12\u001B[0m \u001B[32m━━━━━━━━━━━━━━━━━━━━\u001B[0m\u001B[37m\u001B[0m \u001B[1m0s\u001B[0m 7ms/step - accuracy: 0.7631 - loss: 0.7573 - val_accuracy: 0.9667 - val_loss: 0.7082\n",
      "Epoch 24/50\n",
      "\u001B[1m12/12\u001B[0m \u001B[32m━━━━━━━━━━━━━━━━━━━━\u001B[0m\u001B[37m\u001B[0m \u001B[1m0s\u001B[0m 8ms/step - accuracy: 0.8494 - loss: 0.7202 - val_accuracy: 0.8667 - val_loss: 0.6885\n",
      "Epoch 25/50\n",
      "\u001B[1m12/12\u001B[0m \u001B[32m━━━━━━━━━━━━━━━━━━━━\u001B[0m\u001B[37m\u001B[0m \u001B[1m0s\u001B[0m 7ms/step - accuracy: 0.7597 - loss: 0.7118 - val_accuracy: 0.9333 - val_loss: 0.6709\n",
      "Epoch 26/50\n",
      "\u001B[1m12/12\u001B[0m \u001B[32m━━━━━━━━━━━━━━━━━━━━\u001B[0m\u001B[37m\u001B[0m \u001B[1m0s\u001B[0m 8ms/step - accuracy: 0.8575 - loss: 0.6758 - val_accuracy: 0.9000 - val_loss: 0.6537\n",
      "Epoch 27/50\n",
      "\u001B[1m12/12\u001B[0m \u001B[32m━━━━━━━━━━━━━━━━━━━━\u001B[0m\u001B[37m\u001B[0m \u001B[1m0s\u001B[0m 7ms/step - accuracy: 0.8500 - loss: 0.6490 - val_accuracy: 0.9667 - val_loss: 0.6396\n",
      "Epoch 28/50\n",
      "\u001B[1m12/12\u001B[0m \u001B[32m━━━━━━━━━━━━━━━━━━━━\u001B[0m\u001B[37m\u001B[0m \u001B[1m0s\u001B[0m 7ms/step - accuracy: 0.8955 - loss: 0.6345 - val_accuracy: 0.9667 - val_loss: 0.6226\n",
      "Epoch 29/50\n",
      "\u001B[1m12/12\u001B[0m \u001B[32m━━━━━━━━━━━━━━━━━━━━\u001B[0m\u001B[37m\u001B[0m \u001B[1m0s\u001B[0m 7ms/step - accuracy: 0.8618 - loss: 0.6395 - val_accuracy: 0.9667 - val_loss: 0.6080\n",
      "Epoch 30/50\n",
      "\u001B[1m12/12\u001B[0m \u001B[32m━━━━━━━━━━━━━━━━━━━━\u001B[0m\u001B[37m\u001B[0m \u001B[1m0s\u001B[0m 7ms/step - accuracy: 0.9121 - loss: 0.5815 - val_accuracy: 0.9667 - val_loss: 0.5938\n",
      "Epoch 31/50\n",
      "\u001B[1m12/12\u001B[0m \u001B[32m━━━━━━━━━━━━━━━━━━━━\u001B[0m\u001B[37m\u001B[0m \u001B[1m0s\u001B[0m 7ms/step - accuracy: 0.8206 - loss: 0.6232 - val_accuracy: 0.9667 - val_loss: 0.5818\n",
      "Epoch 32/50\n",
      "\u001B[1m12/12\u001B[0m \u001B[32m━━━━━━━━━━━━━━━━━━━━\u001B[0m\u001B[37m\u001B[0m \u001B[1m0s\u001B[0m 6ms/step - accuracy: 0.8509 - loss: 0.5797 - val_accuracy: 0.9667 - val_loss: 0.5685\n",
      "Epoch 33/50\n",
      "\u001B[1m12/12\u001B[0m \u001B[32m━━━━━━━━━━━━━━━━━━━━\u001B[0m\u001B[37m\u001B[0m \u001B[1m0s\u001B[0m 6ms/step - accuracy: 0.8915 - loss: 0.5831 - val_accuracy: 0.9667 - val_loss: 0.5564\n",
      "Epoch 34/50\n",
      "\u001B[1m12/12\u001B[0m \u001B[32m━━━━━━━━━━━━━━━━━━━━\u001B[0m\u001B[37m\u001B[0m \u001B[1m0s\u001B[0m 7ms/step - accuracy: 0.8987 - loss: 0.5450 - val_accuracy: 0.9667 - val_loss: 0.5454\n",
      "Epoch 35/50\n",
      "\u001B[1m12/12\u001B[0m \u001B[32m━━━━━━━━━━━━━━━━━━━━\u001B[0m\u001B[37m\u001B[0m \u001B[1m0s\u001B[0m 7ms/step - accuracy: 0.9175 - loss: 0.5509 - val_accuracy: 0.9667 - val_loss: 0.5339\n",
      "Epoch 36/50\n",
      "\u001B[1m12/12\u001B[0m \u001B[32m━━━━━━━━━━━━━━━━━━━━\u001B[0m\u001B[37m\u001B[0m \u001B[1m0s\u001B[0m 7ms/step - accuracy: 0.9245 - loss: 0.5369 - val_accuracy: 0.9667 - val_loss: 0.5237\n",
      "Epoch 37/50\n",
      "\u001B[1m12/12\u001B[0m \u001B[32m━━━━━━━━━━━━━━━━━━━━\u001B[0m\u001B[37m\u001B[0m \u001B[1m-2s\u001B[0m -218317us/step - accuracy: 0.8928 - loss: 0.5321 - val_accuracy: 0.9667 - val_loss: 0.5136\n",
      "Epoch 38/50\n",
      "\u001B[1m12/12\u001B[0m \u001B[32m━━━━━━━━━━━━━━━━━━━━\u001B[0m\u001B[37m\u001B[0m \u001B[1m0s\u001B[0m 7ms/step - accuracy: 0.9146 - loss: 0.5291 - val_accuracy: 0.9667 - val_loss: 0.5044\n",
      "Epoch 39/50\n",
      "\u001B[1m12/12\u001B[0m \u001B[32m━━━━━━━━━━━━━━━━━━━━\u001B[0m\u001B[37m\u001B[0m \u001B[1m0s\u001B[0m 6ms/step - accuracy: 0.9225 - loss: 0.5116 - val_accuracy: 0.9667 - val_loss: 0.4952\n",
      "Epoch 40/50\n",
      "\u001B[1m12/12\u001B[0m \u001B[32m━━━━━━━━━━━━━━━━━━━━\u001B[0m\u001B[37m\u001B[0m \u001B[1m0s\u001B[0m 6ms/step - accuracy: 0.9229 - loss: 0.5012 - val_accuracy: 0.9667 - val_loss: 0.4859\n",
      "Epoch 41/50\n",
      "\u001B[1m12/12\u001B[0m \u001B[32m━━━━━━━━━━━━━━━━━━━━\u001B[0m\u001B[37m\u001B[0m \u001B[1m0s\u001B[0m 7ms/step - accuracy: 0.9085 - loss: 0.5029 - val_accuracy: 0.9667 - val_loss: 0.4769\n",
      "Epoch 42/50\n",
      "\u001B[1m12/12\u001B[0m \u001B[32m━━━━━━━━━━━━━━━━━━━━\u001B[0m\u001B[37m\u001B[0m \u001B[1m0s\u001B[0m 6ms/step - accuracy: 0.9436 - loss: 0.4761 - val_accuracy: 0.9667 - val_loss: 0.4689\n",
      "Epoch 43/50\n",
      "\u001B[1m12/12\u001B[0m \u001B[32m━━━━━━━━━━━━━━━━━━━━\u001B[0m\u001B[37m\u001B[0m \u001B[1m0s\u001B[0m 6ms/step - accuracy: 0.8801 - loss: 0.5008 - val_accuracy: 0.9667 - val_loss: 0.4625\n",
      "Epoch 44/50\n",
      "\u001B[1m12/12\u001B[0m \u001B[32m━━━━━━━━━━━━━━━━━━━━\u001B[0m\u001B[37m\u001B[0m \u001B[1m0s\u001B[0m 6ms/step - accuracy: 0.9582 - loss: 0.4912 - val_accuracy: 0.9667 - val_loss: 0.4534\n",
      "Epoch 45/50\n",
      "\u001B[1m12/12\u001B[0m \u001B[32m━━━━━━━━━━━━━━━━━━━━\u001B[0m\u001B[37m\u001B[0m \u001B[1m0s\u001B[0m 6ms/step - accuracy: 0.9516 - loss: 0.4567 - val_accuracy: 0.9667 - val_loss: 0.4450\n",
      "Epoch 46/50\n",
      "\u001B[1m12/12\u001B[0m \u001B[32m━━━━━━━━━━━━━━━━━━━━\u001B[0m\u001B[37m\u001B[0m \u001B[1m0s\u001B[0m 6ms/step - accuracy: 0.9485 - loss: 0.4653 - val_accuracy: 0.9667 - val_loss: 0.4404\n",
      "Epoch 47/50\n",
      "\u001B[1m12/12\u001B[0m \u001B[32m━━━━━━━━━━━━━━━━━━━━\u001B[0m\u001B[37m\u001B[0m \u001B[1m0s\u001B[0m 7ms/step - accuracy: 0.9834 - loss: 0.4265 - val_accuracy: 0.9667 - val_loss: 0.4332\n",
      "Epoch 48/50\n",
      "\u001B[1m12/12\u001B[0m \u001B[32m━━━━━━━━━━━━━━━━━━━━\u001B[0m\u001B[37m\u001B[0m \u001B[1m0s\u001B[0m 6ms/step - accuracy: 0.9708 - loss: 0.4807 - val_accuracy: 0.9667 - val_loss: 0.4256\n",
      "Epoch 49/50\n",
      "\u001B[1m12/12\u001B[0m \u001B[32m━━━━━━━━━━━━━━━━━━━━\u001B[0m\u001B[37m\u001B[0m \u001B[1m0s\u001B[0m 6ms/step - accuracy: 0.9801 - loss: 0.4098 - val_accuracy: 0.9667 - val_loss: 0.4188\n",
      "Epoch 50/50\n",
      "\u001B[1m12/12\u001B[0m \u001B[32m━━━━━━━━━━━━━━━━━━━━\u001B[0m\u001B[37m\u001B[0m \u001B[1m0s\u001B[0m 5ms/step - accuracy: 0.9400 - loss: 0.4179 - val_accuracy: 0.9667 - val_loss: 0.4141\n"
     ]
    }
   ],
   "execution_count": 111
  },
  {
   "metadata": {},
   "cell_type": "markdown",
   "source": "Plot the test and validation accuracies.",
   "id": "e305c4d9626ce93e"
  },
  {
   "metadata": {
    "ExecuteTime": {
     "end_time": "2025-03-24T09:28:27.587330Z",
     "start_time": "2025-03-24T09:28:27.546011Z"
    }
   },
   "cell_type": "code",
   "source": [
    "plt.plot(history.history[\"accuracy\"])\n",
    "plt.plot(history.history[\"val_accuracy\"])\n",
    "plt.grid()\n",
    "plt.show()\n",
    "\n",
    "print (\"Test accuracy: \", history.history[\"accuracy\"][-1])\n",
    "print (\"Validation accuracy: \", history.history[\"val_accuracy\"][-1])"
   ],
   "id": "20e3207c07feb3bb",
   "outputs": [
    {
     "data": {
      "text/plain": [
       "<Figure size 640x480 with 1 Axes>"
      ],
      "image/png": "[encoded data removed]"
     },
     "metadata": {},
     "output_type": "display_data"
    },
    {
     "name": "stdout",
     "output_type": "stream",
     "text": [
      "Test accuracy:  0.9583333134651184\n",
      "Validation accuracy:  0.9666666388511658\n"
     ]
    }
   ],
   "execution_count": 112
  }
 ],
 "metadata": {
  "kernelspec": {
   "display_name": "Python 3",
   "language": "python",
   "name": "python3"
  },
  "language_info": {
   "codemirror_mode": {
    "name": "ipython",
    "version": 2
   },
   "file_extension": ".py",
   "mimetype": "text/x-python",
   "name": "python",
   "nbconvert_exporter": "python",
   "pygments_lexer": "ipython2",
   "version": "2.7.6"
  }
 },
 "nbformat": 4,
 "nbformat_minor": 5
}
