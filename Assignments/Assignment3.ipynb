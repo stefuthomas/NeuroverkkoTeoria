{
 "cells": [
  {
   "metadata": {},
   "cell_type": "markdown",
   "source": "# Assignment 3",
   "id": "e0509fb7be5cdd73"
  },
  {
   "metadata": {},
   "cell_type": "markdown",
   "source": "Load the CIFAR-10 dataset from Keras. Normalize the data and split it into training, validaiton and test sets.",
   "id": "85309c04cfeb5bc"
  },
  {
   "metadata": {
    "ExecuteTime": {
     "end_time": "2025-04-03T13:45:31.995508Z",
     "start_time": "2025-04-03T13:45:30.422337Z"
    }
   },
   "cell_type": "code",
   "source": [
    "import keras\n",
    "# Load the CIFAR-10 dataset\n",
    "(inputs, targets), (x_test, y_test) = keras.datasets.cifar10.load_data()\n",
    "\n",
    "# Convert targets to categorical format\n",
    "targets = keras.utils.to_categorical(targets, num_classes=10)\n",
    "y_test = keras.utils.to_categorical(y_test, num_classes=10)\n",
    "\n",
    "# Normalize the data\n",
    "inputs = inputs.astype('float32') / 255.0\n",
    "x_test = x_test.astype('float32') / 255.0\n",
    "\n",
    "# Split the data into training, validation, and test sets\n",
    "x_train = inputs[:40000]\n",
    "y_train = targets[:40000]\n",
    "\n",
    "x_val = inputs[40000:50000]\n",
    "y_val = targets[40000:50000]\n",
    "\n",
    "print(f\"Training data shape: {x_train.shape}, {y_train.shape}\")\n",
    "print(f\"Validation data shape: {x_val.shape}, {y_val.shape}\")\n",
    "print(f\"Test data shape: {x_test.shape}, {y_test.shape}\")"
   ],
   "id": "7675069e3f4b59b6",
   "outputs": [
    {
     "name": "stdout",
     "output_type": "stream",
     "text": [
      "Training data shape: (40000, 32, 32, 3), (40000, 10)\n",
      "Validation data shape: (10000, 32, 32, 3), (10000, 10)\n",
      "Test data shape: (10000, 32, 32, 3), (10000, 10)\n"
     ]
    }
   ],
   "execution_count": 20
  }
 ],
 "metadata": {
  "kernelspec": {
   "display_name": "Python 3",
   "language": "python",
   "name": "python3"
  },
  "language_info": {
   "codemirror_mode": {
    "name": "ipython",
    "version": 2
   },
   "file_extension": ".py",
   "mimetype": "text/x-python",
   "name": "python",
   "nbconvert_exporter": "python",
   "pygments_lexer": "ipython2",
   "version": "2.7.6"
  }
 },
 "nbformat": 4,
 "nbformat_minor": 5
}
