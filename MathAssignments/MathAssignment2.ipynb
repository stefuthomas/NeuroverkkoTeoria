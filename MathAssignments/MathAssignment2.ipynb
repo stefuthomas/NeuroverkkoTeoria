{
 "cells": [
  {
   "metadata": {},
   "cell_type": "markdown",
   "source": "# Tehtävä 1",
   "id": "fa3466afc649bd11"
  },
  {
   "metadata": {
    "ExecuteTime": {
     "end_time": "2025-04-19T11:38:42.250931Z",
     "start_time": "2025-04-19T11:38:42.248496Z"
    }
   },
   "cell_type": "code",
   "source": [
    "import matplotlib.pyplot as plt\n",
    "import numpy as np\n",
    "from scipy.optimize import fsolve\n"
   ],
   "id": "f2a10c4bfcebad11",
   "outputs": [],
   "execution_count": 118
  },
  {
   "metadata": {},
   "cell_type": "markdown",
   "source": "Määritetään polynomi ja visualisoidaan se.",
   "id": "276d06108f003206"
  },
  {
   "cell_type": "code",
   "id": "initial_id",
   "metadata": {
    "collapsed": true,
    "ExecuteTime": {
     "end_time": "2025-04-19T11:38:42.311288Z",
     "start_time": "2025-04-19T11:38:42.260642Z"
    }
   },
   "source": [
    "def p(x):\n",
    "    return x ** 4 + 5 * x ** 3 - 7 * x\n",
    "\n",
    "\n",
    "xx = np.linspace(-5, 2, 1000)\n",
    "f = p(xx)\n",
    "plt.plot(xx, f)\n",
    "plt.grid()\n",
    "plt.show()"
   ],
   "outputs": [
    {
     "data": {
      "text/plain": [
       "<Figure size 640x480 with 1 Axes>"
      ],
      "image/png": "[encoded data removed]"
     },
     "metadata": {},
     "output_type": "display_data"
    }
   ],
   "execution_count": 119
  },
  {
   "metadata": {},
   "cell_type": "markdown",
   "source": "Määritetään polynomin derivaatta ja lasketaan minimikohdat fsolve-funktion avulla.",
   "id": "dd8bfa1083e60ccb"
  },
  {
   "metadata": {
    "ExecuteTime": {
     "end_time": "2025-04-19T11:38:42.319399Z",
     "start_time": "2025-04-19T11:38:42.314331Z"
    }
   },
   "cell_type": "code",
   "source": [
    "def dp(x):\n",
    "    return 4 * x ** 3 + 15 * x ** 2 - 7\n",
    "\n",
    "\n",
    "x = 0\n",
    "path_x = np.array([x])\n",
    "alpha = 0.01\n",
    "\n",
    "for k in range(1000):\n",
    "    x = x - alpha * dp(x)\n",
    "    path_x = np.append(path_x, x)\n",
    "\n",
    "x1 = fsolve(dp, -4)[0]\n",
    "x2 = fsolve(dp, 1)[0]\n",
    "\n",
    "print(\"Minimikohdat: \" + str(x1), \" ja \" + str(x2))"
   ],
   "id": "23071d2a2e7796e6",
   "outputs": [
    {
     "name": "stdout",
     "output_type": "stream",
     "text": [
      "Minimikohdat: -3.616174361807029  ja 0.631953525167801\n"
     ]
    }
   ],
   "execution_count": 120
  },
  {
   "metadata": {},
   "cell_type": "markdown",
   "source": "# Tehtävä 2",
   "id": "3b0a47c3acd350e7"
  },
  {
   "metadata": {
    "ExecuteTime": {
     "end_time": "2025-04-19T11:38:42.370275Z",
     "start_time": "2025-04-19T11:38:42.366376Z"
    }
   },
   "cell_type": "code",
   "source": [
    "def f(x, y):\n",
    "    return 3 * x ** 2 + 3 * x * y + 2 * y ** 2 + 3 * x - 5 * y\n",
    "\n",
    "\n",
    "def df(x, y):\n",
    "    dx = 6 * x + 3 * y + 3\n",
    "    dy = 3 * x + 4 * y - 5\n",
    "    return dx, dy\n",
    "\n",
    "x = 2\n",
    "y = -1\n",
    "alpha = 0.1\n",
    "path_x = np.array([x])\n",
    "path_y = np.array([y])\n",
    "\n",
    "for k in range(100):\n",
    "    dx, dy = df(x, y)\n",
    "    x = x - alpha*dx\n",
    "    y = y - alpha*dy\n",
    "    path_x = np.append(path_x, x)\n",
    "    path_y = np.append(path_y, y)\n",
    "\n",
    "print(\"Minimikohdat: \" + str(x), \" ja \" + str(y))"
   ],
   "id": "14de0056385891ab",
   "outputs": [
    {
     "name": "stdout",
     "output_type": "stream",
     "text": [
      "Minimikohdat: -1.799999995437104  ja 2.59999999366932\n"
     ]
    }
   ],
   "execution_count": 121
  },
  {
   "metadata": {
    "ExecuteTime": {
     "end_time": "2025-04-19T11:38:42.416637Z",
     "start_time": "2025-04-19T11:38:42.414875Z"
    }
   },
   "cell_type": "code",
   "source": "",
   "id": "942b21bac53c00cc",
   "outputs": [],
   "execution_count": null
  }
 ],
 "metadata": {
  "kernelspec": {
   "display_name": "Python 3",
   "language": "python",
   "name": "python3"
  },
  "language_info": {
   "codemirror_mode": {
    "name": "ipython",
    "version": 2
   },
   "file_extension": ".py",
   "mimetype": "text/x-python",
   "name": "python",
   "nbconvert_exporter": "python",
   "pygments_lexer": "ipython2",
   "version": "2.7.6"
  }
 },
 "nbformat": 4,
 "nbformat_minor": 5
}
